{
 "cells": [
  {
   "cell_type": "markdown",
   "metadata": {},
   "source": [
    "$\\newcommand{\\is}{\\mathrel{\\mathop:=}}$\n",
    "$\\newcommand{\\range}{\\mathop{ran}}$\n",
    "$\\newcommand{\\setof}[1]{\\left \\{ #1 \\right \\}}$\n",
    "$\\newcommand{\\card}[1]{\\left | #1 \\right |}$\n",
    "$\\newcommand{\\tuple}[1]{\\left \\langle #1 \\right \\rangle}$\n",
    "$\\newcommand{\\emptytuple}{\\left \\langle \\right \\rangle}$\n",
    "$\\newcommand{\\tuplecat}{\\cdot}$\n",
    "$\\newcommand{\\stringcat}{\\cdot}$\n",
    "$\\newcommand{\\emptystring}{\\varepsilon}$\n",
    "$\\newcommand{\\String}[1]{\\mathit{#1}}$\n",
    "$\\newcommand{\\LeftEdgeSymbol}{\\rtimes}$\n",
    "$\\newcommand{\\RightEdgeSymbol}{\\ltimes}$\n",
    "$\\newcommand{\\LeftEdge}{\\LeftEdgeSymbol}$\n",
    "$\\newcommand{\\RightEdge}{\\RightEdgeSymbol}$\n",
    "$\\newcommand{\\mult}{\\times}$\n",
    "$\\newcommand{\\multisum}{\\uplus}$\n",
    "$\\newcommand{\\multimult}{\\otimes}$\n",
    "$\\newcommand{\\freqsymbol}{\\mathrm{freq}}$\n",
    "$\\newcommand{\\freq}[1]{\\freqsymbol(#1)}$\n",
    "$\\newcommand{\\prob}{P}$\n",
    "$\\newcommand{\\count}[2]{\\card{#2}_{#1}}$\n",
    "$\\newcommand{\\inv}[1]{#1^{-1}}$\n",
    "$\\newcommand{\\Lex}{\\mathit{Lex}}$\n",
    "$\\newcommand{\\length}[1]{\\left | #1 \\right |}$\n",
    "$\\newcommand{\\succ}{S}$\n",
    "$\\newcommand{\\sprec}{<}$\n",
    "$\\newcommand{\\Rcomp}[2]{#1 \\circ #2}$\n",
    "$\\newcommand{\\domsymbol}{\\triangleleft}$\n",
    "$\\newcommand{\\idom}{\\domsymbol}$\n",
    "$\\newcommand{\\pdom}{\\domsymbol^+}$\n",
    "$\\newcommand{\\rdom}{\\domsymbol^*}$\n",
    "$\\newcommand{\\indegree}[1]{\\mathrm{in(#1)}}$\n",
    "$\\newcommand{\\outdegree}[1]{\\mathrm{out(#1)}}$\n",
    "$\\newcommand{\\cupdot}{\\cup\\mkern-11.5mu\\cdot\\mkern5mu}$\n",
    "$\\newcommand{\\pmatrix}[1]{\\left ( \\matrix{#1} \\right )}$\n",
    "\n",
    "# From Functions to Sets\n",
    "\n",
    "## A Brief Disclaimer\n",
    "\n",
    "We now know that functions map elements of a domain to elements of a co-domain.\n",
    "But what exactly are the domain and the co-domain?\n",
    "Informally, we have referred to them as collections, but the accurate mathematical term is *sets*.\n",
    "Sets are the foundation of modern mathematics in terms of which everything is defined, including functions.\n",
    "However, formalizing sets is not a trivial affair, which is why beginner-friendly texts usually just rely on the readers' intuition for sets.\n",
    "But intuitions can be misleading, in particular for sets.\n",
    "In general, the intuitions for functions are clearer and are less likely to lead readers astray.\n",
    "For this reason we will define sets in terms of functions, rather than the other way round.\n",
    "\n",
    "## Sets as Functions\n",
    "\n",
    "Suppose we want to talk about the even natural numbers, or more precisely, the *set of even natural numbers*.\n",
    "What kind of mathematical object is that?\n",
    "Intuitively we know that it contains every natural number that can be divided by $2$ without any remainder: $0$, $2$, $4$, and so on.\n",
    "But we also know that it does not contain any number that is not natural or not even.\n",
    "This rules out $1$, $-2$, $.26$, $\\pi$, and much more.\n",
    "Suppose, then, that there is some function $\\mathbb{N}_e$ that maps an element to True ($\\top$) if it is an even natural number and to False ($\\bot$) otherwise.\n",
    "This function defines the set of even natural numbers.\n",
    "In standard mathematics, where sets are primitives rather than defined via functions, $\\mathbb{N}_e$ would be called the *characteristic function* of the set of even natural numbers.\n",
    "\n",
    "Here is another example.\n",
    "Let $f$ be a function such that $\\mathit{Fry} \\mapsto \\top$, $\\mathit{Leela} \\mapsto \\top$, and $\\mathit{Bender} \\mapsto \\top$.\n",
    "But everything else is mapped to $\\bot$, e.g. $\\mathit{Homer} \\mapsto \\bot$ and $\\mathit{Bart} \\mapsto \\bot$.\n",
    "This function defines the set of main characters of the TV show *Futurama*.\n",
    "\n",
    "Using the functional $\\mapsto$ notation for defining sets is rather cumbersome, and instead a list with curly braces is commonly used.\n",
    "For instance, the Futurama set is $\\{\\mathit{Fry}, \\mathit{Leela}, \\mathit{Bender}\\}$.\n",
    "We can also give it a name with the operator $\\is$, e.g. $F \\is \\{\\mathit{Fry}, \\mathit{Leela}, \\mathit{Bender}\\}$.\n",
    "Note that the order of elements does not matter, so $\\{\\mathit{Fry}, \\mathit{Leela}, \\mathit{Bender}\\} = \\{\\mathit{Leela}, \\mathit{Bender}, \\mathit{Fry}\\}$.\n",
    "And listing elements more than once does not change the set: $\\{\\mathit{Fry}, \\mathit{Leela}, \\mathit{Bender}\\} = \\{\\mathit{Fry}, \\mathit{Leela}, \\mathit{Leela}, \\mathit{Bender}, \\mathit{Bender}, \\mathit{Bender}\\}$"
   ]
  },
  {
   "cell_type": "code",
   "execution_count": 1,
   "metadata": {
    "collapsed": false
   },
   "outputs": [
    {
     "name": "stdout",
     "output_type": "stream",
     "text": [
      "These two sets are identical\n",
      "These two sets are identical\n",
      "These two sets are identical\n"
     ]
    }
   ],
   "source": [
    "# function to compare two sets\n",
    "def set_comparison(A, B):\n",
    "    if A == B:\n",
    "        print(\"These two sets are identical\")\n",
    "    else:\n",
    "        print(\"These two sets are not identical\")\n",
    "\n",
    "# our example sets\n",
    "set1 = set([\"Fry\", \"Leela\", \"Bender\"])\n",
    "set2 = set([\"Leela\", \"Bender\", \"Fry\"])\n",
    "set3 = set([\"Fry\", \"Leela\", \"Leela\", \"Bender\", \"Bender\", \"Bender\"])\n",
    "\n",
    "# and the comparisons\n",
    "set_comparison(set1, set2)\n",
    "set_comparison(set1, set3)\n",
    "set_comparison(set2, set3)"
   ]
  },
  {
   "cell_type": "markdown",
   "metadata": {},
   "source": [
    "Both properties make perfect sense from the functional perspective.\n",
    "The set notation is just a shorthand for specifying which elements are mapped to $\\top$ - the order in which this is specified is immaterial for the function.\n",
    "And saying multiple times that a given element is mapped to $\\top$ does not change the defined function either.\n",
    "\n",
    "## Set Membership\n",
    "\n",
    "The main reason to use sets is because they provide a convenient way of grouping elements together.\n",
    "For example, we could define the set $V$ of English verbs (although listing all verbs would take a lot of typing even with the more succinct set notation) and then say that every word that belongs to this set has at least two inflected present tense forms (*be* and *have* have more than that; *must*, *may*, *might*, *should*, and *will* are modals).\n",
    "We could express this as \"For all $x \\in V$, $x$ has at least two inflected present tense forms\".\n",
    "Here the *set membership* symbol $\\in$ is used to indicate that $x$ is contained in the set $V$.\n",
    "We also say that $x$ is a *member* or an *element* of $V$.\n",
    "The negative counterpart of $\\in$ is $\\notin$ - $x \\notin V$ signals that $x$ is not a member of $V$.\n",
    "\n",
    "In the same fashion, we could also define sets $N$ for nouns, $\\mathit{A}$ for adjectives, and $P$ for prepositions. \n",
    "And then we can collect them all in a set $S \\is \\{V, N, A, P, \\ldots\\}$.\n",
    "Let's assume for the sake of example that those are all the POSs of English.\n",
    "Is $S$ then the set of all English words?\n",
    "No.\n",
    "Think about what this set does from a functional perspective.\n",
    "It maps the sets $V$, $N$, $A$, and $P$ to $\\top$, and everything else to $\\bot$.\n",
    "The set of all English words, on the other hand, would map English words like *be*, *tree*, *old* and *into* to $\\top$ and everything else to $\\bot$.\n",
    "Suppose for a moment that these four words are the only words of English.\n",
    "Then $V \\is \\setof{\\mathit{be}}$, $N \\is \\setof{\\mathit{tree}}$, $A \\is \\setof{\\mathit{old}}$, and $P \\is \\setof{\\mathit{into}}$.\n",
    "So $S$ would be $\\setof{\\setof{\\mathit{be}}, \\setof{\\mathit{tree}}, \\setof{\\mathit{old}}, \\setof{\\mathit{into}}}$.\n",
    "This is **not** the same set as $\\setof{\\mathit{be}, \\mathit{tree}, \\mathit{old}, \\mathit{into}}$.\n",
    "Intuitively that might seem strange to you: if sets are just collections then they both contain the same words, so there's no meaningful difference.\n",
    "But think about what's going on in terms of functions here: one maps sets of words to $\\top$, the other maps words to $\\top$.\n",
    "Those are clearly different arguments, so the functions must have different domains and thus cannot be the same function.\n",
    "\n",
    "## The Empty Set\n",
    "\n",
    "Here is another aspect of sets that may be strange from an intuitive perspective but makes more sense once we view sets as functions: the *empty set*, usually written $\\emptyset$ instead of $\\setof{}$.\n",
    "The empty set does not contain anything at all.\n",
    "A collection of absolutely nothing is an odd concept, but mathematically $\\emptyset$ is just the function that maps everything to $\\bot$.\n",
    "That such a function should exist is not too surprising.\n",
    "\n",
    "## Set-Builder Notation\n",
    "\n",
    "The sets so far have been fairly simple, but there are already a few cases where our current set notation does not quite cut it.\n",
    "Consider again the set $\\mathbb{N}_e$ of all even natural numbers.\n",
    "With our set notation we could write the set as $\\setof{0, 2, 4, \\ldots}$, but this is imprecise because there are many other sets that start out this way, for instance the range of the function which maps $0$ to itself and every natural number $x$ to $2^x$.\n",
    "In fact, any given finite sequence of numbers can be continued in infinitely many distinct ways (that is not a metaphorical claim, one can prove that there is no upper bound on the number of continuations).\n",
    "So in all but the most trivial cases it is preferable to define sets with a notation that does not rely on listing the elements of the set.\n",
    "\n",
    "This is accomplished with *set-builder notation*, which is very similar to defining the domain and range of a function.\n",
    "The general template is $\\setof{ \\mathit{range} \\mid \\mathit{domain} }$.\n",
    "For example, $\\mathbb{N}_e \\is \\setof{ n \\mid n \\in \\mathbb{N}\\ \\&\\ n \\mathit{\\ is\\ even}}$.\n",
    "This tells us that the domain consists of all $n$ that are natural numbers ($n \\in \\mathbb{N}$) and even, and each such $n$ is mapped to itself.\n",
    "But we could also define the set of odd natural numbers as $\\setof{ n + 1 \\mid n \\in \\mathbb{N}\\ \\&\\ n \\mathit{\\ is\\ even}}$.\n",
    "The domain is the same as before, but instead of $n \\mapsto n$ we now have $n \\mapsto n+1$.\n",
    "We can use this technique to also provide a simpler definition of the even natural numbers: $\\mathbb{N}_e \\is \\setof{ 2n \\mid n \\in \\mathbb{N} }$."
   ]
  },
  {
   "cell_type": "code",
   "execution_count": 2,
   "metadata": {
    "collapsed": false
   },
   "outputs": [
    {
     "data": {
      "text/plain": [
       "[0, 2, 4, 6, 8, 10]"
      ]
     },
     "execution_count": 2,
     "metadata": {},
     "output_type": "execute_result"
    }
   ],
   "source": [
    "# set-builder notation even exists in some programming languages like Python\n",
    "built_set = (2*n for n in [0, 1, 2, 3, 4, 5])\n",
    "list(built_set)"
   ]
  },
  {
   "cell_type": "markdown",
   "metadata": {},
   "source": [
    "There is no limit on the complexity of set-builder notation.\n",
    "For example, one could nest multiple set definitions, as in $\\setof{ \\setof{ i \\mid 0 \\leq i \\leq n } \\mid n \\in \\mathbb{N}}$.\n",
    "This is a set that contains all initial intervals of the natural number: $\\setof{ \\setof{0}, \\setof{0,1}, \\setof{0,1,2}, \\setof{0,1,2,3}, \\ldots }$.\n",
    "However, such nested definitions are often cumbersome to read, so try to avoid this.\n",
    "Quite generally, definitions should not intimidate or dazzle the reader.\n",
    "\n",
    "<div class=advice>\n",
    "A good definition is as complex as necessary and as simple as possible.\n",
    "</div>\n",
    "\n",
    "\n",
    "## So It's Functions all the Way Down?\n",
    "\n",
    "Some of you might have already noticed that there is a certain circularity in defining sets via functions.\n",
    "After all, a function is defined in terms of a domain, a co-domain, and a mapping between them.\n",
    "Previously we treated domains and co-domains purely informally as collections, but now we have formalized them via sets, which are... well, functions.\n",
    "So functions are defined in terms of functions.\n",
    "A function is given by a function defining its domain, a function defining its co-domain, and the mapping between them.\n",
    "But then the domain function must also be defined via a function defining its domains, a function defining its co-domain, and the mapping between them.\n",
    "But then the domain function of the domain functions must be defined via such functions, and so on, *ad infinitum*.\n",
    "\n",
    "This is indeed a troubling state of affairs if one wants all of mathematics to rest on a solid foundation, and it is why mathematicians have opted for taking sets as primitives and defining functions via sets instead.\n",
    "Make no mistake, though, axiomatizing the notion of set is a very difficult and subtle affair.\n",
    "The standard axiomatization ZFC (*Zermelo Fraenkel with the Axiom of Choice*) is not without its quirks, either.\n",
    "For example, it allows for some strange things such as the [Banach-Tarsky paradox](https://en.wikipedia.org/wiki/Banach%E2%80%93Tarski_paradox), which states that a sphere can be decomposed into a finite number of parts which are then reassembled into **two** perfect copies of the original sphere - a second sphere is magically created out of nothing.\n",
    "The axiomatization of mathematics is full of fascinating mindbenders of this kind, but that is not something we will dabble in.\n",
    "We are interested in mathematics as a helpful tool, and thus we allow ourselves a certain amount of imprecision when it comes to the foundations.\n",
    "That defining sets via functions induces some circularity is not a problem as long as we all have a firm grasp of what functions are and are not."
   ]
  }
 ],
 "metadata": {
  "kernelspec": {
   "display_name": "Python 3",
   "language": "python",
   "name": "python3"
  },
  "language_info": {
   "codemirror_mode": {
    "name": "ipython",
    "version": 3
   },
   "file_extension": ".py",
   "mimetype": "text/x-python",
   "name": "python",
   "nbconvert_exporter": "python",
   "pygments_lexer": "ipython3",
   "version": "3.5.3"
  }
 },
 "nbformat": 4,
 "nbformat_minor": 2
}
