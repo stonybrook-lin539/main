{
 "cells": [
  {
   "cell_type": "markdown",
   "metadata": {},
   "source": [
    "$\\newcommand{\\is}{\\mathrel{\\mathop:=}}$\n",
    "$\\newcommand{\\range}{\\mathop{ran}}$\n",
    "$\\newcommand{\\setof}[1]{\\left \\{ #1 \\right \\}}$\n",
    "$\\newcommand{\\card}[1]{\\left | #1 \\right |}$\n",
    "$\\newcommand{\\tuple}[1]{\\left \\langle #1 \\right \\rangle}$\n",
    "$\\newcommand{\\emptytuple}{\\left \\langle \\right \\rangle}$\n",
    "$\\newcommand{\\tuplecat}{\\cdot}$\n",
    "$\\newcommand{\\stringcat}{\\cdot}$\n",
    "$\\newcommand{\\emptystring}{\\varepsilon}$\n",
    "$\\newcommand{\\String}[1]{\\mathit{#1}}$\n",
    "$\\newcommand{\\LeftEdgeSymbol}{\\rtimes}$\n",
    "$\\newcommand{\\RightEdgeSymbol}{\\ltimes}$\n",
    "$\\newcommand{\\LeftEdge}{\\LeftEdgeSymbol}$\n",
    "$\\newcommand{\\RightEdge}{\\RightEdgeSymbol}$\n",
    "$\\newcommand{\\mult}{\\times}$\n",
    "$\\newcommand{\\multisum}{\\uplus}$\n",
    "$\\newcommand{\\multimult}{\\otimes}$\n",
    "$\\newcommand{\\freqsymbol}{\\mathrm{freq}}$\n",
    "$\\newcommand{\\freq}[1]{\\freqsymbol(#1)}$\n",
    "$\\newcommand{\\prob}{P}$\n",
    "$\\newcommand{\\counts}[2]{\\card{#2}_{#1}}$\n",
    "$\\newcommand{\\inv}[1]{#1^{-1}}$\n",
    "$\\newcommand{\\Lex}{\\mathit{Lex}}$\n",
    "$\\newcommand{\\length}[1]{\\left | #1 \\right |}$\n",
    "$\\newcommand{\\suc}{S}$\n",
    "$\\newcommand{\\sprec}{<}$\n",
    "$\\newcommand{\\Rcomp}[2]{#1 \\circ #2}$\n",
    "$\\newcommand{\\domsymbol}{\\triangleleft}$\n",
    "$\\newcommand{\\idom}{\\domsymbol}$\n",
    "$\\newcommand{\\pdom}{\\domsymbol^+}$\n",
    "$\\newcommand{\\rdom}{\\domsymbol^*}$\n",
    "$\\newcommand{\\indegree}[1]{\\mathrm{in(#1)}}$\n",
    "$\\newcommand{\\outdegree}[1]{\\mathrm{out(#1)}}$\n",
    "$\\newcommand{\\cupdot}{\\cup\\mkern-11.5mu\\cdot\\mkern5mu}$\n",
    "$\\newcommand{\\mymatrix}[1]{\\left ( \\matrix{#1} \\right )}$\n",
    "$\\newcommand{\\id}{\\mathrm{id}}$\n",
    "\n",
    "**Prerequisites**\n",
    "\n",
    "- sets (notation, operations, comparisons)\n",
    "\n",
    "# Sets with counters: Multisets\n",
    "\n",
    "Sets are an abstract mathematical object that we may think of as collections in a lose sense.\n",
    "They are sometimes likened to bags, but this can be misleading.\n",
    "While bags convey the intuition that sets are unordered, they are unlike sets in that idempotency does not hold: a bag containing two apples is not the same thing as a bag containing one apple.\n",
    "Bags thus are closer to what mathematicians call **multisets**.\n",
    "Like sets, multisets are unordered, but idempotency does not hold; a multiset can contain multiple instances of the same object.\n",
    "\n",
    "<div class=definition>\n",
    "    A **multiset** is a set where each element has a numerosity.\n",
    "    We indicate that a set $S$ is a multiset by subscripting it with $M$, as in $S_M$.\n",
    "    For all $s \\in S_M$, $S_M(s)$ indicates the numerosity or **count** of $s$ in $S_M$.\n",
    "    We may write $S_M(s) = 0$ instead of $s \\notin S_M$.\n",
    "</div>\n",
    "\n",
    "<div class=example>\n",
    "    The multiset $\\setof{a,a,b}_M$ contains two occurrences of $a$ and one occurrence of $b$.\n",
    "    Hence $\\setof{a,a,b}_M \\neq \\setof{a,b}_M$ even though $\\setof{a,a,b} = \\setof{a,b}$.\n",
    "    However, it still holds that order does not matter: $\\setof{a,a,b}_M = \\setof{a,b,a}_M = \\setof{b, a, a}_M$, just like $\\setof{a,b} = \\setof{b,a}$.\n",
    "</div>\n",
    "\n",
    "<div class=exercise>\n",
    "Fill in the gaps with $=$ and $\\neq$ as appropriate.\n",
    "\n",
    "<ol>\n",
    "<li>\n",
    "$\\setof{5, 5, 7, 8}_M \\_ \\setof{7, 5, 8, 7}_M$\n",
    "</li>\n",
    "<li>\n",
    "$\\setof{5, 3, 4} \\_ \\setof{5,3,4,4,3,5,5,4,3}$\n",
    "</li>\n",
    "<li>\n",
    "$\\setof{\\text{peanut butter}, \\text{jelly}}_M \\_ \\setof{\\text{peanut butter}, \\text{jelly}}_M$\n",
    "</li>\n",
    "<li>\n",
    "$\\setof{\\text{John}, \\text{John}, \\text{John}}_M \\_ \\setof{\\text{John}}_M$\n",
    "</li>\n",
    "$\\setof{a}_M \\_ \\setof{a,a}$\n",
    "</ol>\n",
    "</div>\n",
    "\n",
    "The notation for multisets is much less standardized than that for sets, and not everybody follows the convention of subscripting multisets with $M$.\n",
    "If an author uses multisets, pay close attention to how they define their notation.\n",
    "Also, it is often convenient to explicitly list the count of each element rather than listing the element multiple times.\n",
    "\n",
    "<div class=example>\n",
    "    The multiset $A_M \\is \\setof{a,a,a,b,b,c}$ can be more conveniently written as $A_M \\is \\setof{a: 3, b: 2, c: 1}$.\n",
    "    Elements with a count of $0$ are usually omitted, but may be included if this is relevant information.\n",
    "</div>"
   ]
  },
  {
   "cell_type": "code",
   "execution_count": 1,
   "metadata": {},
   "outputs": [
    {
     "name": "stdout",
     "output_type": "stream",
     "text": [
      "['a', 'a', 'b', 'b', 'c'] same multiset as ['a', 'b', 'c', 'c', 'd']? False\n",
      "['a', 'a', 'b', 'b', 'c'] same set as ['a', 'b', 'c', 'c', 'd']? False\n",
      "['a', 'a', 'b', 'b', 'c'] same multiset as ['a', 'b', 'c', 'a', 'b']? True\n"
     ]
    }
   ],
   "source": [
    "from collections import Counter\n",
    "\n",
    "def set_equals(A, B):\n",
    "    print(\"{} same set as {}?\".format(A,B), set(A) == (B))\n",
    "\n",
    "def multiset_equals(A, B):\n",
    "    print(\"{} same multiset as {}?\".format(A,B), Counter(A) == Counter(B))\n",
    "\n",
    "multiset_equals([\"a\", \"a\", \"b\", \"b\", \"c\"], [\"a\", \"b\", \"c\", \"c\", \"d\"])\n",
    "set_equals([\"a\", \"a\", \"b\", \"b\", \"c\"], [\"a\", \"b\", \"c\", \"c\", \"d\"])\n",
    "multiset_equals([\"a\", \"a\", \"b\", \"b\", \"c\"], [\"a\", \"b\", \"c\", \"a\", \"b\"])"
   ]
  },
  {
   "cell_type": "markdown",
   "metadata": {},
   "source": [
    "<div class=exercise>\n",
    "Represent all the multisets in the exercise above with explicit counts.\n",
    "</div>\n",
    "\n",
    "With this kind of notation, it also becomes possible to define multisets with set-builder notation.\n",
    "For example, $\\setof{n: 2n \\mid n \\in \\mathbb{N}}$ is the set that contains $2n$ occurrences of every natural number $n$: $\\setof{0:0, 1:2, 2:4, 3:6, \\ldots}$."
   ]
  },
  {
   "cell_type": "code",
   "execution_count": 2,
   "metadata": {},
   "outputs": [
    {
     "name": "stdout",
     "output_type": "stream",
     "text": [
      "Counter({9: 18, 8: 16, 7: 14, 6: 12, 5: 10, 4: 8, 3: 6, 2: 4, 1: 2, 0: 0})\n"
     ]
    }
   ],
   "source": [
    "multiset = Counter({n: 2*n for n in range(10)})\n",
    "print(multiset)"
   ]
  },
  {
   "cell_type": "markdown",
   "metadata": {},
   "source": [
    "<div class=exercise>\n",
    "Write down the multiset defined by each set-builder expression.\n",
    "These are not entirely straight-forward, and you'll have to make some educated guesses as to how to handle special cases.\n",
    "\n",
    "<ol>\n",
    "<li>\n",
    "$\\setof{n: 10 - n \\mid 0 \\leq n \\leq 10}$\n",
    "</li>\n",
    "<li>\n",
    "$\\setof{a: b, b: a \\mid a,b \\geq 0, a + b = 10}$\n",
    "</li>\n",
    "</ol>\n",
    "</div>"
   ]
  }
 ],
 "metadata": {
  "language_info": {
   "codemirror_mode": {
    "name": "ipython",
    "version": 3
   },
   "file_extension": ".py",
   "mimetype": "text/x-python",
   "name": "python",
   "nbconvert_exporter": "python",
   "pygments_lexer": "ipython3",
   "version": "3.7.3"
  }
 },
 "nbformat": 4,
 "nbformat_minor": 2
}
