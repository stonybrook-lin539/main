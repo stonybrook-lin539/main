{
 "cells": [
  {
   "cell_type": "markdown",
   "metadata": {},
   "source": [
    "$\\newcommand{\\is}{\\mathrel{\\mathop:=}}$\n",
    "$\\newcommand{\\range}{\\mathop{ran}}$\n",
    "$\\newcommand{\\setof}[1]{\\left \\{ #1 \\right \\}}$\n",
    "$\\newcommand{\\card}[1]{\\left | #1 \\right |}$\n",
    "$\\newcommand{\\tuple}[1]{\\left \\langle #1 \\right \\rangle}$\n",
    "$\\newcommand{\\emptytuple}{\\left \\langle \\right \\rangle}$\n",
    "$\\newcommand{\\tuplecat}{\\cdot}$\n",
    "$\\newcommand{\\stringcat}{\\cdot}$\n",
    "$\\newcommand{\\emptystring}{\\varepsilon}$\n",
    "$\\newcommand{\\String}[1]{\\mathit{#1}}$\n",
    "$\\newcommand{\\LeftEdgeSymbol}{\\rtimes}$\n",
    "$\\newcommand{\\RightEdgeSymbol}{\\ltimes}$\n",
    "$\\newcommand{\\LeftEdge}{\\LeftEdgeSymbol}$\n",
    "$\\newcommand{\\RightEdge}{\\RightEdgeSymbol}$\n",
    "$\\newcommand{\\mult}{\\times}$\n",
    "$\\newcommand{\\multisum}{\\uplus}$\n",
    "$\\newcommand{\\multimult}{\\otimes}$\n",
    "$\\newcommand{\\freqsymbol}{\\mathrm{freq}}$\n",
    "$\\newcommand{\\freq}[1]{\\freqsymbol(#1)}$\n",
    "$\\newcommand{\\prob}{P}$\n",
    "$\\newcommand{\\counts}[2]{\\card{#2}_{#1}}$\n",
    "$\\newcommand{\\inv}[1]{#1^{-1}}$\n",
    "$\\newcommand{\\Lex}{\\mathit{Lex}}$\n",
    "$\\newcommand{\\length}[1]{\\left | #1 \\right |}$\n",
    "$\\newcommand{\\suc}{S}$\n",
    "$\\newcommand{\\sprec}{<}$\n",
    "$\\newcommand{\\Rcomp}[2]{#1 \\circ #2}$\n",
    "$\\newcommand{\\domsymbol}{\\triangleleft}$\n",
    "$\\newcommand{\\idom}{\\domsymbol}$\n",
    "$\\newcommand{\\pdom}{\\domsymbol^+}$\n",
    "$\\newcommand{\\rdom}{\\domsymbol^*}$\n",
    "$\\newcommand{\\indegree}[1]{\\mathrm{in(#1)}}$\n",
    "$\\newcommand{\\outdegree}[1]{\\mathrm{out(#1)}}$\n",
    "$\\newcommand{\\cupdot}{\\cup\\mkern-11.5mu\\cdot\\mkern5mu}$\n",
    "$\\newcommand{\\mymatrix}[1]{\\left ( \\matrix{#1} \\right )}$\n",
    "$\\newcommand{\\id}{\\mathrm{id}}$\n",
    "\n",
    "**Prerequisite**\n",
    "\n",
    "- Relations (notation)\n",
    "\n",
    "# Monotonicity\n",
    "\n",
    "When the domain and co-domain of a function each have an order defined over them, one can ask whether the function is order-preserving.\n",
    "\n",
    "<div class=example>\n",
    "Consider the function $f: \\mathbb{N} \\rightarrow \\mathbb{N}$ with $x \\mapsto 2x$.\n",
    "The (co-)domain $\\mathbb{N}$ is the set of natural numbers, which can be ordered by $\\leq$ in the usual fashion.\n",
    "The function $f$ respects the order induced by $\\leq$.\n",
    "For any two $x$ and $y$ such that$x \\leq y$, it also holds that $f(x) \\leq f(y)$.\n",
    "For instance, $4 \\leq 10$ and $f(4) = 8 \\leq 20 = f(10)$.\n",
    "</div>\n",
    "\n",
    "<div class=example>\n",
    "The function $f: \\mathbb{R} \\rightarrow \\mathbb{R}$ with $f(x) = x^2 - 5x$ does not preserve order in all cases.\n",
    "We have $3 < 5$ and $f(3) = 9 - 5 \\mult 3 = -6 < 0 = 25 - 5 \\mult 5 = f(5)$.\n",
    "But we also have $0 < 1$ yet $f(0) = 0 - 5 \\mult 0 = 0 > -4 = 1 - 5 \\mult 1 = f(1)$.\n",
    "</div>\n",
    "\n",
    "This property of order preservation is known as **monotonicity**.\n",
    "You might know monotonicity in the special case of a function from reals to reals.\n",
    "In this case, one can draw the function as a line in a coordinate system."
   ]
  },
  {
   "cell_type": "code",
   "execution_count": 1,
   "metadata": {},
   "outputs": [
    {
     "data": {
      "text/plain": [
       "<Figure size 640x480 with 1 Axes>"
      ]
     },
     "metadata": {},
     "output_type": "display_data"
    },
    {
     "data": {
      "text/plain": [
       "<Figure size 640x480 with 1 Axes>"
      ]
     },
     "metadata": {},
     "output_type": "display_data"
    },
    {
     "data": {
      "text/plain": [
       "<Figure size 640x480 with 1 Axes>"
      ]
     },
     "metadata": {},
     "output_type": "display_data"
    },
    {
     "data": {
      "text/plain": [
       "<Figure size 640x480 with 1 Axes>"
      ]
     },
     "metadata": {},
     "output_type": "display_data"
    }
   ],
   "source": [
    "import numpy as np\n",
    "import matplotlib.pyplot as plt\n",
    "\n",
    "f = lambda x: 2*x\n",
    "g = lambda x: x**2\n",
    "h = lambda x: 2*x - 2**(x - 5) + 2**10\n",
    "i = lambda x: x/2 - 2**x\n",
    "\n",
    "for func in [f, g, h, i]:\n",
    "    values = np.linspace(-10, 10)\n",
    "    plt.plot(values, func(values))\n",
    "    plt.show()"
   ]
  },
  {
   "cell_type": "markdown",
   "metadata": {},
   "source": [
    "<!-- ```python -->\n",
    "<!-- import numpy as np -->\n",
    "<!-- import matplotlib.pyplot as plt -->\n",
    "<!-- import ipywidgets -->\n",
    "<!-- from ipywidgets import Button, Layout -->\n",
    "<!--  -->\n",
    "<!-- from IPython.display import display -->\n",
    "<!--  -->\n",
    "<!-- f = lambda x: 2*x -->\n",
    "<!-- g = lambda x: x**2 -->\n",
    "<!-- h = lambda x: 2*x - 2**(x - 5) + 2**10 -->\n",
    "<!-- i = lambda x: x/2 - 2**x -->\n",
    "<!--  -->\n",
    "<!-- b = ipywidgets.Button(description='Show graphs', -->\n",
    "<!--            layout=Layout(width='50%', height='80px')) -->\n",
    "<!-- display(b) -->\n",
    "<!--  -->\n",
    "<!-- def on_button_clicked(b): -->\n",
    "<!--     for func in [f, g, h, i]: -->\n",
    "<!--         values = np.linspace(-10, 10) -->\n",
    "<!--         plt.plot(values, func(values)) -->\n",
    "<!--         plt.show() -->\n",
    "<!--      -->\n",
    "<!-- b.on_click(on_button_clicked) -->\n",
    "<!-- ``` -->\n",
    "\n",
    "A function is monotonic iff it does not change direction: once it goes up, it cannot go down, and the other way round.\n",
    "Among the functions above, only the first and the last are monotonic.\n",
    "\n",
    "While such numerical functions are a good starting point for grasping the intuition behind monotonicity, the concept is much broader.\n",
    "See the unit on universals for various linguistic applications of monotonicity, none of which have anything to do with numbers.\n",
    "\n",
    "## Isotonicity and antitonicity\n",
    "\n",
    "Monotonicity is actually an umbrella term for two distinct properties: **isotonic** (**monotonic increasing**) and **antitonic** (**monotonic decreasing**).\n",
    "\n",
    "<div class=definition>\n",
    "Let $A$ and $B$ be arbitrary sets and $\\leq_A$ and $\\leq_B$ ordering relations over these respective sets.\n",
    "Then a function $f: A \\rightarrow B$ is <b>isotonic</b> iff $x \\leq_A y$ implies $f(x) \\leq_B f(y)$.\n",
    "We call $f$ <b>antitonic</b> iff $x \\leq_A y$ implies $f(y) \\leq_B f(x)$.\n",
    "</div>\n",
    "\n",
    "A function is monotonic iff it is isotonic or antitonic.\n",
    "\n",
    "<div class=exercise>\n",
    "For each one of the following functions say whether it is isotonic, antitonic, or neither.\n",
    "\n",
    "<ol>\n",
    "<li>$f: \\mathbb{R} \\rightarrow \\mathbb{R}$, $x \\mapsto x - 10$</li>\n",
    "<li>$f: \\mathbb{R} \\rightarrow \\mathbb{R}$, $x \\mapsto x^2$</li>\n",
    "<li>$f: \\mathbb{R} \\rightarrow \\mathbb{R}$, $x \\mapsto \\frac{x}{2}$</li>\n",
    "<li>$f: \\mathbb{N} \\rightarrow \\mathbb{N}$, $f(n)$ is $1$ if $n = 0$ and $n \\mult f(n-1)$ otherwise</li>\n",
    "</ol>\n",
    "</div>\n",
    "\n",
    "<div class=exercise>\n",
    "Given an example of a function that is both isotonic and antitonic.\n",
    "</div>"
   ]
  }
 ],
 "metadata": {
  "language_info": {
   "codemirror_mode": {
    "name": "ipython",
    "version": 3
   },
   "file_extension": ".py",
   "mimetype": "text/x-python",
   "name": "python",
   "nbconvert_exporter": "python",
   "pygments_lexer": "ipython3",
   "version": "3.7.3"
  }
 },
 "nbformat": 4,
 "nbformat_minor": 2
}
