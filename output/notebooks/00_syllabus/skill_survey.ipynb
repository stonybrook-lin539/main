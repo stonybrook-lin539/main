{
 "cells": [
  {
   "cell_type": "markdown",
   "metadata": {},
   "source": [
    "$\\newcommand{\\is}{\\mathrel{\\mathop:=}}$\n",
    "$\\newcommand{\\range}{\\mathop{ran}}$\n",
    "$\\newcommand{\\setof}[1]{\\left \\{ #1 \\right \\}}$\n",
    "$\\newcommand{\\card}[1]{\\left | #1 \\right |}$\n",
    "$\\newcommand{\\tuple}[1]{\\left \\langle #1 \\right \\rangle}$\n",
    "$\\newcommand{\\emptytuple}{\\left \\langle \\right \\rangle}$\n",
    "$\\newcommand{\\tuplecat}{\\cdot}$\n",
    "$\\newcommand{\\stringcat}{\\cdot}$\n",
    "$\\newcommand{\\emptystring}{\\varepsilon}$\n",
    "$\\newcommand{\\String}[1]{\\mathit{#1}}$\n",
    "$\\newcommand{\\LeftEdgeSymbol}{\\rtimes}$\n",
    "$\\newcommand{\\RightEdgeSymbol}{\\ltimes}$\n",
    "$\\newcommand{\\LeftEdge}{\\LeftEdgeSymbol}$\n",
    "$\\newcommand{\\RightEdge}{\\RightEdgeSymbol}$\n",
    "$\\newcommand{\\mult}{\\times}$\n",
    "$\\newcommand{\\multisum}{\\uplus}$\n",
    "$\\newcommand{\\multimult}{\\otimes}$\n",
    "$\\newcommand{\\freqsymbol}{\\mathrm{freq}}$\n",
    "$\\newcommand{\\freq}[1]{\\freqsymbol(#1)}$\n",
    "$\\newcommand{\\prob}{P}$\n",
    "$\\newcommand{\\counts}[2]{\\card{#2}_{#1}}$\n",
    "$\\newcommand{\\inv}[1]{#1^{-1}}$\n",
    "$\\newcommand{\\Lex}{\\mathit{Lex}}$\n",
    "$\\newcommand{\\length}[1]{\\left | #1 \\right |}$\n",
    "$\\newcommand{\\suc}{S}$\n",
    "$\\newcommand{\\sprec}{<}$\n",
    "$\\newcommand{\\Rcomp}[2]{#1 \\circ #2}$\n",
    "$\\newcommand{\\domsymbol}{\\triangleleft}$\n",
    "$\\newcommand{\\idom}{\\domsymbol}$\n",
    "$\\newcommand{\\pdom}{\\domsymbol^+}$\n",
    "$\\newcommand{\\rdom}{\\domsymbol^*}$\n",
    "$\\newcommand{\\indegree}[1]{\\mathrm{in(#1)}}$\n",
    "$\\newcommand{\\outdegree}[1]{\\mathrm{out(#1)}}$\n",
    "$\\newcommand{\\cupdot}{\\cup\\mkern-11.5mu\\cdot\\mkern5mu}$\n",
    "$\\newcommand{\\mymatrix}[1]{\\left ( \\matrix{#1} \\right )}$\n",
    "$\\newcommand{\\id}{\\mathrm{id}}$\n",
    "\n",
    "---\n",
    "title: Skill Survey (Not Graded)\n",
    "geometry: margin=1in, letterpaper\n",
    "fontsize: 12pt\n",
    "header-includes:\n",
    "    - \\usepackage[charter]{mathdesign}\n",
    "---\n",
    "\n",
    "This survey is part of a *pre-post assessment* to determine your mathematics skills before and after taking the class.\n",
    "Answer the questions to the best of your abilities, but do not guess.\n",
    "If you do not know an answer, just skip the question.\n",
    "Even skipping all questions is perfectly fine, this is **not** a test of your ability to pass the class.\n",
    "\n",
    "1.  For each of the following relations, say whether it is a weak partial order."
   ]
  },
  {
   "cell_type": "markdown",
   "metadata": {},
   "source": [
    "\n",
    "    1. set containment\n",
    "    1. proper subset relation\n",
    "    1. sister-of (kinship)\n",
    "    1. sister-of (syntax tree)\n",
    "    1. proper dominance (syntax tree)\n",
    "    1. c-command\n",
    "    1. $x$ is derivable from $y$ by substituting 0 or more segments\n",
    "    1. $x$ is derivable from $y$ by deleting 0 or more segments\n"
   ]
  },
  {
   "cell_type": "markdown",
   "metadata": {},
   "source": [
    "1.  Compute the power set of the power set of the empty set (i.e. $\\wp(\\wp(\\emptyset))$.\n",
    "\n",
    "1.  Give a picture-based proof of De Morgan's law.\n",
    "\n",
    "1.  Explain why the following formula is (or is not) a tautology: $((a \\rightarrow a) \\rightarrow a) \\rightarrow b$\n",
    "\n",
    "1.  Write a formula of first-order logic with successor that enforces the first and fourth segment of a word (if they exist) to be $a$, $i$, or $u$ unless the word already contains two or more voiceless plosives.\n",
    "\n",
    "1.  Resolve the (untyped) lambda-term to its simplest form: $[\\lambda x. \\lambda f. f(x)]([\\lambda f. \\lambda g. g(f)](\\lambda x. x \\neq x)(\\lambda x. x))$\n",
    "\n",
    "1.  Calculate the result of the matrix multiplication below (if this isn't possible, say so):"
   ]
  },
  {
   "cell_type": "markdown",
   "metadata": {},
   "source": [
    "\n",
    "    $$\n",
    "    \\begin{bmatrix}\n",
    "    1 & 2 & 3\\\\\n",
    "    3 & 2 & 1\\\\\n",
    "    \\end{bmatrix}\n",
    "    \\times\n",
    "    \\begin{bmatrix}\n",
    "    3 & 1 & 2\\\\\n",
    "    1 & 3 & 2\\\\\n",
    "    \\end{bmatrix}\n",
    "    $$\n"
   ]
  },
  {
   "cell_type": "markdown",
   "metadata": {},
   "source": [
    "1.  Calculate the result of the matrix multiplication below (if this isn't possible, say so):"
   ]
  },
  {
   "cell_type": "markdown",
   "metadata": {},
   "source": [
    "\n",
    "    $$\n",
    "    \\begin{bmatrix}\n",
    "    1 & 2 & 3\\\\\n",
    "    3 & 2 & 1\\\\\n",
    "    \\end{bmatrix}\n",
    "    \\times\n",
    "    \\begin{bmatrix}\n",
    "    3 & 1\\\\\n",
    "    1 & 3\\\\\n",
    "    2 & 2\\\\\n",
    "    \\end{bmatrix}\n",
    "    $$\n"
   ]
  },
  {
   "cell_type": "markdown",
   "metadata": {},
   "source": [
    "1.  Calculate the meaning vector of *when* based on the sentence *When buffalo buffalo buffalo, then buffalo buffalo buffalo, obviously.*\n",
    "\n",
    "1.  Draw the smallest strongly connected digraph with 5 vertices.\n",
    "\n",
    "1.  Give a finite-state transducer that maps every $1^n$ to $a^n b^*$.\n",
    "    Give a second transducer that maps every $1^n$ to $a^* b^n$.\n",
    "    Is the intersection of the corresponding transductions a finite-state transduction?\n",
    "\n",
    "1.  Let $f$ be a finite-state transduction that rewrites members of $\\{a,b\\}^*$ such that $a$ is replaced by $b$ and $b$ is replaced by $c$.\n",
    "    And let $g$ be another finite-state transduction that rewrites these output strings such that every third $b$ is rewritten as $a$.\n",
    "    Give the finite-state transducer that computes the composition of these two transductions ($f \\circ g$).\n",
    "\n",
    "1.  Give a CCG analysis of the sentence *This cute boy, Mary really likes*.\n",
    "\n",
    "1.  Let $G$ be a PCFG with the following rules:"
   ]
  },
  {
   "cell_type": "markdown",
   "metadata": {},
   "source": [
    "\n",
    "    - 1.0: S $\\rightarrow$ NP VP\n",
    "    - 0.8: NP $\\rightarrow$ A N\n",
    "    - 0.2: NP $\\rightarrow$ V ing N\n",
    "    - 0.4: VP $\\rightarrow$ can VP\n",
    "    - 0.4: VP $\\rightarrow$ V NP\n",
    "    - 0.2: VP $\\rightarrow$ V A\n",
    "\n",
    "    Ignoring lexical frequency, calculate the probability for each one of the two readings of *Flying planes can be dangerous*.\n"
   ]
  },
  {
   "cell_type": "markdown",
   "metadata": {},
   "source": [
    "1.  Give an example of a monoid.\n",
    "\n",
    "1.  Is $\\langle \\wp(\\Sigma^n), \\cup, -, \\emptyset, \\Sigma^n \\rangle$ a semiring? Why (not)?"
   ]
  }
 ],
 "metadata": {
  "language_info": {
   "codemirror_mode": {
    "name": "ipython",
    "version": 3
   },
   "file_extension": ".py",
   "mimetype": "text/x-python",
   "name": "python",
   "nbconvert_exporter": "python",
   "pygments_lexer": "ipython3",
   "version": "3.7.3"
  }
 },
 "nbformat": 4,
 "nbformat_minor": 2
}
